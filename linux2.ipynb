{
  "cells": [
    {
      "cell_type": "markdown",
      "metadata": {
        "id": "dcKOA-MMioc_"
      },
      "source": [
        "#linux\n",
        "\n",
        "1.What is Linux?\n",
        "\n",
        "   The Linux Operating System is a Unix-like operating systems based on the Linux kernel, system that combines a wide range of open-source tools and components to form a complete computing environment. These components include file systems, user interfaces, system utilities, and application programs all working together to manage hardware and enable users to interact with their computer systems.\n",
        "\n",
        "2.I What is the difference between Hard Link & Soft link?\n",
        "\n",
        "  Hard Link:\n",
        "\n",
        "*.A hard link is essentially an additional name for an existing file. It points directly to the inode (index node) of the file. The inode contains metadata about the file, including its data blocks on the disk.\n",
        "\n",
        "*. If you delete the original file, the hard link will still work because it points to the inode, not the file name. The file's data is only removed when the last hard link to it is deleted.\n",
        "\n",
        "  soft link:\n",
        "\n",
        " *.A soft link is a pointer or shortcut to another file or directory. It contains the path to the target file or directory.\n",
        "\n",
        " *.If you delete the original file or directory that the soft link points to, the soft link will become a \"broken\" link because the path it points to no longer exists.\n",
        "\n",
        " 3.What is a Kernel in Linux?\n",
        "\n",
        " the kernel is the core of the Linux operating system. It's the fundamental part that manages the system's resources and acts as a bridge between your hardware and the software\n",
        "\n",
        "\n"
      ]
    },
    {
      "cell_type": "markdown",
      "metadata": {
        "id": "PpCFBKeUlz3x"
      },
      "source": []
    },
    {
      "cell_type": "code",
      "execution_count": null,
      "metadata": {
        "colab": {
          "background_save": true
        },
        "id": "-XhT3byJmEgO"
      },
      "outputs": [],
      "source": [
        "#4.  How do you create a user account?\n",
        "!sudo adduser username"
      ]
    },
    {
      "cell_type": "markdown",
      "metadata": {
        "id": "f3Ic2fPRmKcC"
      },
      "source": [
        "5. What is the ‘grep’ command used for in Linux?\n",
        "\n",
        " * The grep command in Linux is a powerful tool for searching for a specific pattern of text within files.\n",
        "\n",
        " * The name \"grep\" stands for \"global regular expression print\n",
        "\n"
      ]
    },
    {
      "cell_type": "code",
      "execution_count": null,
      "metadata": {
        "id": "mrZiwirWmoVN"
      },
      "outputs": [],
      "source": [
        "'''\n",
        "6. Step1: Create user p1\n",
        "\n",
        " Step2: He should be part of 3 groups g1,g2,g3.\n",
        "\n",
        " Step3: whenever he creates a file automatically in the group section of file grp g1 should come\n",
        "'''\n"
      ]
    },
    {
      "cell_type": "markdown",
      "metadata": {
        "id": "_VTbtFxCnLZF"
      },
      "source": [
        "**step 1:create user p1**\n"
      ]
    },
    {
      "cell_type": "code",
      "execution_count": null,
      "metadata": {
        "id": "09e8e7eb",
        "colab": {
          "base_uri": "https://localhost:8080/"
        },
        "outputId": "b7247a97-10f1-4a0d-bf90-fdc65c11972f"
      },
      "outputs": [
        {
          "metadata": {
            "tags": null
          },
          "name": "stdout",
          "output_type": "stream",
          "text": [
            "Adding user `p1' ...\n",
            "Adding new group `p1' (1004) ...\n",
            "Adding new user `p1' (1001) with group `p1' ...\n",
            "Creating home directory `/home/p1' ...\n",
            "Copying files from `/etc/skel' ...\n",
            "New password: "
          ]
        }
      ],
      "source": [
        "!sudo adduser p1"
      ]
    },
    {
      "cell_type": "markdown",
      "metadata": {
        "id": "679c5d38"
      },
      "source": [
        "**Step 2: Add user p1 to groups g1, g2, and g3**\n",
        "\n"
      ]
    },
    {
      "cell_type": "code",
      "execution_count": null,
      "metadata": {
        "id": "e55fe417",
        "colab": {
          "base_uri": "https://localhost:8080/"
        },
        "outputId": "f5d80bff-079f-4ca8-90dc-c1acf0a0fa06"
      },
      "outputs": [
        {
          "output_type": "stream",
          "name": "stdout",
          "text": [
            "Adding group `g1' (GID 1001) ...\n",
            "Done.\n",
            "Adding group `g2' (GID 1002) ...\n",
            "Done.\n",
            "Adding group `g3' (GID 1003) ...\n",
            "Done.\n"
          ]
        }
      ],
      "source": [
        "!sudo addgroup g1\n",
        "!sudo addgroup g2\n",
        "!sudo addgroup g3"
      ]
    },
    {
      "cell_type": "code",
      "execution_count": null,
      "metadata": {
        "id": "9fa20f3e"
      },
      "outputs": [],
      "source": [
        "!sudo usermod -a -G g1,g2,g3 p1"
      ]
    },
    {
      "cell_type": "markdown",
      "metadata": {
        "id": "450158d9"
      },
      "source": [
        "**Step 3: Set the default group for new files to g1**\n"
      ]
    },
    {
      "cell_type": "code",
      "execution_count": null,
      "metadata": {
        "id": "d872aafa"
      },
      "outputs": [],
      "source": [
        "!sudo usermod -g g1 p1"
      ]
    },
    {
      "cell_type": "code",
      "execution_count": null,
      "metadata": {
        "id": "655a364b"
      },
      "outputs": [],
      "source": [
        "!sudo chown -R :g1 /home/p1files"
      ]
    },
    {
      "cell_type": "code",
      "execution_count": null,
      "metadata": {
        "id": "WPdlQkQgoE3l"
      },
      "outputs": [],
      "source": [
        "!sudo chmod g+s /home/p1files\n"
      ]
    },
    {
      "cell_type": "markdown",
      "metadata": {
        "id": "ngYFbwLepucA"
      },
      "source": [
        "7. Step1: Create directory /tmp/bg as root user and create files inside it.\n",
        "\n",
        " Step2: “abhi” should be the owner of the directory. He should be able to create files and delete files inside\n",
        "\n",
        " the directory and also he should be able to add content to all files inside the directory.\n"
      ]
    },
    {
      "cell_type": "code",
      "metadata": {
        "id": "0ded6191"
      },
      "source": [
        "!sudo mkdir /tmp/bg\n",
        "!sudo touch /tmp/bg/file1.txt /tmp/bg/file2.txt\n",
        "!sudo chown abhi /tmp/bg\n",
        "!sudo chown -R abhi /tmp/bg\n",
        "!sudo chmod -R 700 /tmp/bg"
      ],
      "execution_count": null,
      "outputs": []
    },
    {
      "cell_type": "markdown",
      "source": [
        "8. You suspect that a particular process is consuming excessive CPU resources on your Linux server. How\n",
        "would you identify and terminate this process?"
      ],
      "metadata": {
        "id": "T1eVsKx8utf6"
      }
    },
    {
      "cell_type": "code",
      "source": [
        "#using top command\n",
        "!top\n",
        "#to terminate the process\n",
        "!kill <pid>\n",
        "#to terminate forcefully the process\n",
        "!sudo kill -9 <pid>\n"
      ],
      "metadata": {
        "id": "4jyN9Kt3u4fp"
      },
      "execution_count": null,
      "outputs": []
    }
  ],
  "metadata": {
    "colab": {
      "provenance": []
    },
    "kernelspec": {
      "display_name": "Python 3",
      "name": "python3"
    },
    "language_info": {
      "name": "python"
    }
  },
  "nbformat": 4,
  "nbformat_minor": 0
}